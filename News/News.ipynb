{
 "cells": [
  {
   "cell_type": "code",
   "execution_count": 1,
   "metadata": {},
   "outputs": [],
   "source": [
    "import datetime as dt\n",
    "import pandas as pd"
   ]
  },
  {
   "cell_type": "code",
   "execution_count": 11,
   "metadata": {},
   "outputs": [],
   "source": [
    "def parse_millisecond_timestamp(ts: int) -> dt.datetime:\n",
    "    return dt.datetime.fromtimestamp(ts / 1000, tz=dt.timezone.utc)\n",
    "\n",
    "df = pd.read_csv(\n",
    "    \"news.csv\",\n",
    "    sep=\"\\t\",\n",
    "    header=None,\n",
    "    index_col=0,\n",
    "    names=[\"title\", \"url\", \"outlet\", \"category\", \"cluster\", \"host\", \"tstamp\"],\n",
    "    parse_dates=[\"tstamp\"],\n",
    "    date_parser=parse_millisecond_timestamp,\n",
    "    dtype={\n",
    "        \"outlet\": \"category\",\n",
    "        \"category\": \"category\",\n",
    "        \"cluster\": \"category\",\n",
    "        \"host\": \"category\",\n",
    "    },\n",
    ")"
   ]
  },
  {
   "cell_type": "code",
   "execution_count": 12,
   "metadata": {},
   "outputs": [
    {
     "data": {
      "text/plain": [
       "title       Fed official says weak data caused by weather,...\n",
       "url         http://www.latimes.com/business/money/la-fi-mo...\n",
       "outlet                                      Los Angeles Times\n",
       "category                                                    b\n",
       "cluster                         ddUyU0VZz0BRneMioxUPQVP6sIxvM\n",
       "host                                          www.latimes.com\n",
       "tstamp                       2014-03-10 16:52:50.698000+00:00\n",
       "Name: 1, dtype: object"
      ]
     },
     "execution_count": 12,
     "metadata": {},
     "output_type": "execute_result"
    }
   ],
   "source": [
    "df.iloc[0]"
   ]
  },
  {
   "cell_type": "code",
   "execution_count": 14,
   "metadata": {},
   "outputs": [
    {
     "data": {
      "text/plain": [
       "outlet\n",
       "Reuters                         161\n",
       "NASDAQ                          103\n",
       "Businessweek                     93\n",
       "Investing.com                    66\n",
       "Wall Street Journal \\(blog\\)     61\n",
       "MarketWatch                      56\n",
       "Moneynews                        55\n",
       "Bloomberg                        53\n",
       "GlobalPost                       51\n",
       "Economic Times                   44\n",
       "Name: title, dtype: int64"
      ]
     },
     "execution_count": 14,
     "metadata": {},
     "output_type": "execute_result"
    }
   ],
   "source": [
    "df.groupby('outlet', sort=False)['title'].apply(lambda ser: ser.str.contains('Fed').sum()).nlargest(10)"
   ]
  },
  {
   "cell_type": "code",
   "execution_count": 15,
   "metadata": {},
   "outputs": [
    {
     "data": {
      "text/plain": [
       "'Los Angeles Times'"
      ]
     },
     "execution_count": 15,
     "metadata": {},
     "output_type": "execute_result"
    }
   ],
   "source": [
    "title, ser = next(iter(df.groupby('outlet', sort=False)['title']))\n",
    "title"
   ]
  },
  {
   "cell_type": "code",
   "execution_count": 16,
   "metadata": {},
   "outputs": [
    {
     "data": {
      "text/plain": [
       "1       Fed official says weak data caused by weather,...\n",
       "486            Stocks fall on discouraging news from Asia\n",
       "1124    Clues to Genghis Khan's rise, written in the r...\n",
       "1146    Elephants distinguish human voices by sex, age...\n",
       "1237    Honda splits Acura into its own division to re...\n",
       "Name: title, dtype: object"
      ]
     },
     "execution_count": 16,
     "metadata": {},
     "output_type": "execute_result"
    }
   ],
   "source": [
    "ser.head()"
   ]
  },
  {
   "cell_type": "code",
   "execution_count": 19,
   "metadata": {},
   "outputs": [
    {
     "data": {
      "text/plain": [
       "1        True\n",
       "486     False\n",
       "1124    False\n",
       "1146    False\n",
       "1237    False\n",
       "Name: title, dtype: bool"
      ]
     },
     "execution_count": 19,
     "metadata": {},
     "output_type": "execute_result"
    }
   ],
   "source": [
    "ser.str.contains('Fed').head(5)"
   ]
  },
  {
   "cell_type": "code",
   "execution_count": 20,
   "metadata": {},
   "outputs": [
    {
     "data": {
      "text/plain": [
       "<bound method Series.sum of 1          True\n",
       "486       False\n",
       "1124      False\n",
       "1146      False\n",
       "1237      False\n",
       "1250      False\n",
       "1525      False\n",
       "1551      False\n",
       "1598      False\n",
       "1633      False\n",
       "1941      False\n",
       "2120      False\n",
       "2239      False\n",
       "2405      False\n",
       "2966      False\n",
       "3060      False\n",
       "3299      False\n",
       "3667      False\n",
       "3864      False\n",
       "3987      False\n",
       "4169      False\n",
       "4264      False\n",
       "4357      False\n",
       "4391      False\n",
       "4616      False\n",
       "5051      False\n",
       "5112      False\n",
       "5179      False\n",
       "5394      False\n",
       "5655      False\n",
       "          ...  \n",
       "414834    False\n",
       "414866    False\n",
       "414965    False\n",
       "415438    False\n",
       "417039    False\n",
       "417125    False\n",
       "417379    False\n",
       "417453    False\n",
       "417580    False\n",
       "417743    False\n",
       "417892    False\n",
       "418038    False\n",
       "418358    False\n",
       "418468    False\n",
       "418712    False\n",
       "418722     True\n",
       "418954    False\n",
       "419097    False\n",
       "419131    False\n",
       "419723    False\n",
       "420317    False\n",
       "420793    False\n",
       "421282    False\n",
       "421431    False\n",
       "421480    False\n",
       "421547    False\n",
       "421584    False\n",
       "421972    False\n",
       "422226    False\n",
       "422905    False\n",
       "Name: title, Length: 1976, dtype: bool>"
      ]
     },
     "execution_count": 20,
     "metadata": {},
     "output_type": "execute_result"
    }
   ],
   "source": [
    "ser.str.contains('Fed').sum"
   ]
  },
  {
   "cell_type": "code",
   "execution_count": 22,
   "metadata": {},
   "outputs": [
    {
     "data": {
      "text/plain": [
       "pandas.core.series.Series"
      ]
     },
     "execution_count": 22,
     "metadata": {},
     "output_type": "execute_result"
    }
   ],
   "source": [
    "mentions_fed = df['title'].str.contains('Fed')\n",
    "type(mentions_fed)"
   ]
  },
  {
   "cell_type": "code",
   "execution_count": null,
   "metadata": {},
   "outputs": [],
   "source": []
  }
 ],
 "metadata": {
  "kernelspec": {
   "display_name": "Python 3",
   "language": "python",
   "name": "python3"
  },
  "language_info": {
   "codemirror_mode": {
    "name": "ipython",
    "version": 3
   },
   "file_extension": ".py",
   "mimetype": "text/x-python",
   "name": "python",
   "nbconvert_exporter": "python",
   "pygments_lexer": "ipython3",
   "version": "3.7.3"
  },
  "varInspector": {
   "cols": {
    "lenName": 16,
    "lenType": 16,
    "lenVar": 40
   },
   "kernels_config": {
    "python": {
     "delete_cmd_postfix": "",
     "delete_cmd_prefix": "del ",
     "library": "var_list.py",
     "varRefreshCmd": "print(var_dic_list())"
    },
    "r": {
     "delete_cmd_postfix": ") ",
     "delete_cmd_prefix": "rm(",
     "library": "var_list.r",
     "varRefreshCmd": "cat(var_dic_list()) "
    }
   },
   "types_to_exclude": [
    "module",
    "function",
    "builtin_function_or_method",
    "instance",
    "_Feature"
   ],
   "window_display": false
  }
 },
 "nbformat": 4,
 "nbformat_minor": 2
}
